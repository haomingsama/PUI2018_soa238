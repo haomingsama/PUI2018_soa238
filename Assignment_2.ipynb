{
 "cells": [
  {
   "cell_type": "code",
   "execution_count": 1,
   "metadata": {},
   "outputs": [
    {
     "name": "stdout",
     "output_type": "stream",
     "text": [
      "/nfshome/soa238/PUIdata\n"
     ]
    }
   ],
   "source": [
    "#importing libraries\n",
    "from __future__ import print_function\n",
    "import pandas as pd\n",
    "import os\n",
    "#checking environmental variable\n",
    "print (os.getenv(\"PUIDATA\"))"
   ]
  },
  {
   "cell_type": "code",
   "execution_count": 2,
   "metadata": {},
   "outputs": [
    {
     "data": {
      "text/html": [
       "<div>\n",
       "<table border=\"1\" class=\"dataframe\">\n",
       "  <thead>\n",
       "    <tr style=\"text-align: right;\">\n",
       "      <th></th>\n",
       "      <th>base_salary</th>\n",
       "      <th>loaded_fringes</th>\n",
       "      <th>rank</th>\n",
       "    </tr>\n",
       "  </thead>\n",
       "  <tbody>\n",
       "    <tr>\n",
       "      <th>0</th>\n",
       "      <td>69862.0</td>\n",
       "      <td>137747.0</td>\n",
       "      <td>Correction Officer</td>\n",
       "    </tr>\n",
       "    <tr>\n",
       "      <th>1</th>\n",
       "      <td>90801.0</td>\n",
       "      <td>175238.0</td>\n",
       "      <td>Captain</td>\n",
       "    </tr>\n",
       "    <tr>\n",
       "      <th>2</th>\n",
       "      <td>110762.0</td>\n",
       "      <td>216784.0</td>\n",
       "      <td>Assistant Deputy Warden</td>\n",
       "    </tr>\n",
       "    <tr>\n",
       "      <th>3</th>\n",
       "      <td>134664.0</td>\n",
       "      <td>260906.0</td>\n",
       "      <td>Deputy Warden/ DWIC</td>\n",
       "    </tr>\n",
       "    <tr>\n",
       "      <th>4</th>\n",
       "      <td>171196.0</td>\n",
       "      <td>306864.0</td>\n",
       "      <td>Warden</td>\n",
       "    </tr>\n",
       "  </tbody>\n",
       "</table>\n",
       "</div>"
      ],
      "text/plain": [
       "   base_salary  loaded_fringes                     rank\n",
       "0      69862.0        137747.0       Correction Officer\n",
       "1      90801.0        175238.0                  Captain\n",
       "2     110762.0        216784.0  Assistant Deputy Warden\n",
       "3     134664.0        260906.0      Deputy Warden/ DWIC\n",
       "4     171196.0        306864.0                   Warden"
      ]
     },
     "execution_count": 2,
     "metadata": {},
     "output_type": "execute_result"
    }
   ],
   "source": [
    "#pulling data from URL\n",
    "url = 'https://data.cityofnewyork.us/resource/vapd-jixs.csv'\n",
    "pd.read_csv(url)"
   ]
  },
  {
   "cell_type": "code",
   "execution_count": 3,
   "metadata": {},
   "outputs": [
    {
     "data": {
      "text/html": [
       "<div>\n",
       "<table border=\"1\" class=\"dataframe\">\n",
       "  <thead>\n",
       "    <tr style=\"text-align: right;\">\n",
       "      <th></th>\n",
       "      <th>Rank</th>\n",
       "      <th>Base Salary</th>\n",
       "      <th>Loaded + Fringes</th>\n",
       "    </tr>\n",
       "  </thead>\n",
       "  <tbody>\n",
       "    <tr>\n",
       "      <th>0</th>\n",
       "      <td>Correction Officer</td>\n",
       "      <td>69862.0</td>\n",
       "      <td>137747.0</td>\n",
       "    </tr>\n",
       "    <tr>\n",
       "      <th>1</th>\n",
       "      <td>Captain</td>\n",
       "      <td>90801.0</td>\n",
       "      <td>175238.0</td>\n",
       "    </tr>\n",
       "    <tr>\n",
       "      <th>2</th>\n",
       "      <td>Assistant Deputy Warden</td>\n",
       "      <td>110762.0</td>\n",
       "      <td>216784.0</td>\n",
       "    </tr>\n",
       "    <tr>\n",
       "      <th>3</th>\n",
       "      <td>Deputy Warden/ DWIC</td>\n",
       "      <td>134664.0</td>\n",
       "      <td>260906.0</td>\n",
       "    </tr>\n",
       "    <tr>\n",
       "      <th>4</th>\n",
       "      <td>Warden</td>\n",
       "      <td>171196.0</td>\n",
       "      <td>306864.0</td>\n",
       "    </tr>\n",
       "  </tbody>\n",
       "</table>\n",
       "</div>"
      ],
      "text/plain": [
       "                      Rank  Base Salary  Loaded + Fringes\n",
       "0       Correction Officer      69862.0          137747.0\n",
       "1                  Captain      90801.0          175238.0\n",
       "2  Assistant Deputy Warden     110762.0          216784.0\n",
       "3      Deputy Warden/ DWIC     134664.0          260906.0\n",
       "4                   Warden     171196.0          306864.0"
      ]
     },
     "execution_count": 3,
     "metadata": {},
     "output_type": "execute_result"
    }
   ],
   "source": [
    "pd.read_csv(os.getenv(\"PUIDATA\") + \"/Average_Salaries_In_Department_Of_Correction.csv\")"
   ]
  },
  {
   "cell_type": "code",
   "execution_count": 4,
   "metadata": {},
   "outputs": [
    {
     "data": {
      "text/html": [
       "<div>\n",
       "<table border=\"1\" class=\"dataframe\">\n",
       "  <thead>\n",
       "    <tr style=\"text-align: right;\">\n",
       "      <th></th>\n",
       "      <th>Rank</th>\n",
       "      <th>Base Salary</th>\n",
       "      <th>Loaded + Fringes</th>\n",
       "    </tr>\n",
       "  </thead>\n",
       "  <tbody>\n",
       "    <tr>\n",
       "      <th>0</th>\n",
       "      <td>Correction Officer</td>\n",
       "      <td>69862.0</td>\n",
       "      <td>137747.0</td>\n",
       "    </tr>\n",
       "    <tr>\n",
       "      <th>1</th>\n",
       "      <td>Captain</td>\n",
       "      <td>90801.0</td>\n",
       "      <td>175238.0</td>\n",
       "    </tr>\n",
       "    <tr>\n",
       "      <th>2</th>\n",
       "      <td>Assistant Deputy Warden</td>\n",
       "      <td>110762.0</td>\n",
       "      <td>216784.0</td>\n",
       "    </tr>\n",
       "    <tr>\n",
       "      <th>3</th>\n",
       "      <td>Deputy Warden/ DWIC</td>\n",
       "      <td>134664.0</td>\n",
       "      <td>260906.0</td>\n",
       "    </tr>\n",
       "    <tr>\n",
       "      <th>4</th>\n",
       "      <td>Warden</td>\n",
       "      <td>171196.0</td>\n",
       "      <td>306864.0</td>\n",
       "    </tr>\n",
       "  </tbody>\n",
       "</table>\n",
       "</div>"
      ],
      "text/plain": [
       "                      Rank  Base Salary  Loaded + Fringes\n",
       "0       Correction Officer      69862.0          137747.0\n",
       "1                  Captain      90801.0          175238.0\n",
       "2  Assistant Deputy Warden     110762.0          216784.0\n",
       "3      Deputy Warden/ DWIC     134664.0          260906.0\n",
       "4                   Warden     171196.0          306864.0"
      ]
     },
     "execution_count": 4,
     "metadata": {},
     "output_type": "execute_result"
    }
   ],
   "source": [
    "pd.read_csv(os.getenv(\"PUIDATA\") + \"/Average_Salaries_In_Department_Of_Correction.csv\")"
   ]
  },
  {
   "cell_type": "code",
   "execution_count": null,
   "metadata": {},
   "outputs": [],
   "source": []
  }
 ],
 "metadata": {
  "kernelspec": {
   "display_name": "PUI2016_Python3",
   "language": "python",
   "name": "pui2016_python3"
  },
  "language_info": {
   "codemirror_mode": {
    "name": "ipython",
    "version": 3
   },
   "file_extension": ".py",
   "mimetype": "text/x-python",
   "name": "python",
   "nbconvert_exporter": "python",
   "pygments_lexer": "ipython3",
   "version": "3.5.4"
  }
 },
 "nbformat": 4,
 "nbformat_minor": 2
}
